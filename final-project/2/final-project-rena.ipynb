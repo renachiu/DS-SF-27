{
 "cells": [
  {
   "cell_type": "code",
   "execution_count": 266,
   "metadata": {
    "collapsed": false
   },
   "outputs": [],
   "source": [
    "import os\n",
    "import numpy as np\n",
    "import pandas as pd\n",
    "import seaborn as sns\n",
    "import matplotlib.pyplot as plt\n",
    "%matplotlib inline\n",
    "plt.style.use('ggplot')\n",
    "\n",
    "from collections import Counter\n",
    "import matplotlib.patches as mpatches\n",
    "\n",
    "import statsmodels.api as sm\n",
    "import statsmodels.formula.api as smf\n",
    "from sklearn import preprocessing, neighbors, grid_search, cross_validation, linear_model, feature_selection, decomposition, cluster, ensemble, metrics, externals"
   ]
  },
  {
   "cell_type": "markdown",
   "metadata": {},
   "source": [
    "## Game of Thrones - Predicting Character Deaths"
   ]
  },
  {
   "cell_type": "markdown",
   "metadata": {},
   "source": [
    "'Valar Morghulis' - a well-known greeting in the popular TV series Game of Thrones can be used to sum up the violence in the series. It translates to \"All men must die\". \n",
    "\n",
    "The purpose of this project is to see if the character fatalities come at random or if it only comes to those selected ones who exhibit similar features such as demographics, popularity...etc. The Song of Ice and Fire series and the corresponding Game of Thrones TV series is notorious for killing many major characters. The high death tolls will hopefully give me enough of a sample size to make interesting observations. \n",
    "\n",
    "My knowledge of this topic comes from watching the Game of Thrones TV show like most people, reading the books, and waiting for the next book - Winds of Winter with bated breath."
   ]
  },
  {
   "cell_type": "code",
   "execution_count": 267,
   "metadata": {
    "collapsed": false
   },
   "outputs": [],
   "source": [
    "predictions = pd.read_csv(os.path.join('datasets','character-predictions.csv'))"
   ]
  },
  {
   "cell_type": "code",
   "execution_count": 268,
   "metadata": {
    "collapsed": false
   },
   "outputs": [
    {
     "data": {
      "text/html": [
       "<div>\n",
       "<table border=\"1\" class=\"dataframe\">\n",
       "  <thead>\n",
       "    <tr style=\"text-align: right;\">\n",
       "      <th></th>\n",
       "      <th>S.No</th>\n",
       "      <th>actual</th>\n",
       "      <th>pred</th>\n",
       "      <th>alive</th>\n",
       "      <th>plod</th>\n",
       "      <th>name</th>\n",
       "      <th>title</th>\n",
       "      <th>male</th>\n",
       "      <th>culture</th>\n",
       "      <th>dateOfBirth</th>\n",
       "      <th>...</th>\n",
       "      <th>isAliveHeir</th>\n",
       "      <th>isAliveSpouse</th>\n",
       "      <th>isMarried</th>\n",
       "      <th>isNoble</th>\n",
       "      <th>age</th>\n",
       "      <th>numDeadRelations</th>\n",
       "      <th>boolDeadRelations</th>\n",
       "      <th>isPopular</th>\n",
       "      <th>popularity</th>\n",
       "      <th>isAlive</th>\n",
       "    </tr>\n",
       "  </thead>\n",
       "  <tbody>\n",
       "    <tr>\n",
       "      <th>0</th>\n",
       "      <td>1</td>\n",
       "      <td>0</td>\n",
       "      <td>0</td>\n",
       "      <td>0.054</td>\n",
       "      <td>0.946</td>\n",
       "      <td>Viserys II Targaryen</td>\n",
       "      <td>NaN</td>\n",
       "      <td>1</td>\n",
       "      <td>NaN</td>\n",
       "      <td>NaN</td>\n",
       "      <td>...</td>\n",
       "      <td>0.0</td>\n",
       "      <td>NaN</td>\n",
       "      <td>0</td>\n",
       "      <td>0</td>\n",
       "      <td>NaN</td>\n",
       "      <td>11</td>\n",
       "      <td>1</td>\n",
       "      <td>1</td>\n",
       "      <td>0.605351</td>\n",
       "      <td>0</td>\n",
       "    </tr>\n",
       "    <tr>\n",
       "      <th>1</th>\n",
       "      <td>2</td>\n",
       "      <td>1</td>\n",
       "      <td>0</td>\n",
       "      <td>0.387</td>\n",
       "      <td>0.613</td>\n",
       "      <td>Walder Frey</td>\n",
       "      <td>Lord of the Crossing</td>\n",
       "      <td>1</td>\n",
       "      <td>Rivermen</td>\n",
       "      <td>208.0</td>\n",
       "      <td>...</td>\n",
       "      <td>NaN</td>\n",
       "      <td>1.0</td>\n",
       "      <td>1</td>\n",
       "      <td>1</td>\n",
       "      <td>97.0</td>\n",
       "      <td>1</td>\n",
       "      <td>1</td>\n",
       "      <td>1</td>\n",
       "      <td>0.896321</td>\n",
       "      <td>1</td>\n",
       "    </tr>\n",
       "    <tr>\n",
       "      <th>2</th>\n",
       "      <td>3</td>\n",
       "      <td>1</td>\n",
       "      <td>0</td>\n",
       "      <td>0.493</td>\n",
       "      <td>0.507</td>\n",
       "      <td>Addison Hill</td>\n",
       "      <td>Ser</td>\n",
       "      <td>1</td>\n",
       "      <td>NaN</td>\n",
       "      <td>NaN</td>\n",
       "      <td>...</td>\n",
       "      <td>NaN</td>\n",
       "      <td>NaN</td>\n",
       "      <td>0</td>\n",
       "      <td>1</td>\n",
       "      <td>NaN</td>\n",
       "      <td>0</td>\n",
       "      <td>0</td>\n",
       "      <td>0</td>\n",
       "      <td>0.267559</td>\n",
       "      <td>1</td>\n",
       "    </tr>\n",
       "    <tr>\n",
       "      <th>3</th>\n",
       "      <td>4</td>\n",
       "      <td>0</td>\n",
       "      <td>0</td>\n",
       "      <td>0.076</td>\n",
       "      <td>0.924</td>\n",
       "      <td>Aemma Arryn</td>\n",
       "      <td>Queen</td>\n",
       "      <td>0</td>\n",
       "      <td>NaN</td>\n",
       "      <td>82.0</td>\n",
       "      <td>...</td>\n",
       "      <td>NaN</td>\n",
       "      <td>0.0</td>\n",
       "      <td>1</td>\n",
       "      <td>1</td>\n",
       "      <td>23.0</td>\n",
       "      <td>0</td>\n",
       "      <td>0</td>\n",
       "      <td>0</td>\n",
       "      <td>0.183946</td>\n",
       "      <td>0</td>\n",
       "    </tr>\n",
       "    <tr>\n",
       "      <th>4</th>\n",
       "      <td>5</td>\n",
       "      <td>1</td>\n",
       "      <td>1</td>\n",
       "      <td>0.617</td>\n",
       "      <td>0.383</td>\n",
       "      <td>Sylva Santagar</td>\n",
       "      <td>Greenstone</td>\n",
       "      <td>0</td>\n",
       "      <td>Dornish</td>\n",
       "      <td>276.0</td>\n",
       "      <td>...</td>\n",
       "      <td>NaN</td>\n",
       "      <td>1.0</td>\n",
       "      <td>1</td>\n",
       "      <td>1</td>\n",
       "      <td>29.0</td>\n",
       "      <td>0</td>\n",
       "      <td>0</td>\n",
       "      <td>0</td>\n",
       "      <td>0.043478</td>\n",
       "      <td>1</td>\n",
       "    </tr>\n",
       "  </tbody>\n",
       "</table>\n",
       "<p>5 rows × 33 columns</p>\n",
       "</div>"
      ],
      "text/plain": [
       "   S.No  actual  pred  alive   plod                  name  \\\n",
       "0     1       0     0  0.054  0.946  Viserys II Targaryen   \n",
       "1     2       1     0  0.387  0.613           Walder Frey   \n",
       "2     3       1     0  0.493  0.507          Addison Hill   \n",
       "3     4       0     0  0.076  0.924           Aemma Arryn   \n",
       "4     5       1     1  0.617  0.383        Sylva Santagar   \n",
       "\n",
       "                  title  male   culture  dateOfBirth   ...     isAliveHeir  \\\n",
       "0                   NaN     1       NaN          NaN   ...             0.0   \n",
       "1  Lord of the Crossing     1  Rivermen        208.0   ...             NaN   \n",
       "2                   Ser     1       NaN          NaN   ...             NaN   \n",
       "3                 Queen     0       NaN         82.0   ...             NaN   \n",
       "4            Greenstone     0   Dornish        276.0   ...             NaN   \n",
       "\n",
       "  isAliveSpouse isMarried isNoble   age numDeadRelations  boolDeadRelations  \\\n",
       "0           NaN         0       0   NaN               11                  1   \n",
       "1           1.0         1       1  97.0                1                  1   \n",
       "2           NaN         0       1   NaN                0                  0   \n",
       "3           0.0         1       1  23.0                0                  0   \n",
       "4           1.0         1       1  29.0                0                  0   \n",
       "\n",
       "   isPopular  popularity  isAlive  \n",
       "0          1    0.605351        0  \n",
       "1          1    0.896321        1  \n",
       "2          0    0.267559        1  \n",
       "3          0    0.183946        0  \n",
       "4          0    0.043478        1  \n",
       "\n",
       "[5 rows x 33 columns]"
      ]
     },
     "execution_count": 268,
     "metadata": {},
     "output_type": "execute_result"
    }
   ],
   "source": [
    "predictions.head()"
   ]
  },
  {
   "cell_type": "markdown",
   "metadata": {},
   "source": [
    "### Explorational analysis (initial look at the data)"
   ]
  },
  {
   "cell_type": "code",
   "execution_count": 269,
   "metadata": {
    "collapsed": false
   },
   "outputs": [
    {
     "data": {
      "text/html": [
       "<div>\n",
       "<table border=\"1\" class=\"dataframe\">\n",
       "  <thead>\n",
       "    <tr style=\"text-align: right;\">\n",
       "      <th></th>\n",
       "      <th>S.No</th>\n",
       "      <th>actual</th>\n",
       "      <th>pred</th>\n",
       "      <th>alive</th>\n",
       "      <th>plod</th>\n",
       "      <th>male</th>\n",
       "      <th>dateOfBirth</th>\n",
       "      <th>DateoFdeath</th>\n",
       "      <th>book1</th>\n",
       "      <th>book2</th>\n",
       "      <th>...</th>\n",
       "      <th>isAliveHeir</th>\n",
       "      <th>isAliveSpouse</th>\n",
       "      <th>isMarried</th>\n",
       "      <th>isNoble</th>\n",
       "      <th>age</th>\n",
       "      <th>numDeadRelations</th>\n",
       "      <th>boolDeadRelations</th>\n",
       "      <th>isPopular</th>\n",
       "      <th>popularity</th>\n",
       "      <th>isAlive</th>\n",
       "    </tr>\n",
       "  </thead>\n",
       "  <tbody>\n",
       "    <tr>\n",
       "      <th>count</th>\n",
       "      <td>1946.000000</td>\n",
       "      <td>1946.000000</td>\n",
       "      <td>1946.000000</td>\n",
       "      <td>1946.000000</td>\n",
       "      <td>1946.000000</td>\n",
       "      <td>1946.000000</td>\n",
       "      <td>433.000000</td>\n",
       "      <td>444.000000</td>\n",
       "      <td>1946.000000</td>\n",
       "      <td>1946.000000</td>\n",
       "      <td>...</td>\n",
       "      <td>23.000000</td>\n",
       "      <td>276.000000</td>\n",
       "      <td>1946.000000</td>\n",
       "      <td>1946.000000</td>\n",
       "      <td>433.000000</td>\n",
       "      <td>1946.000000</td>\n",
       "      <td>1946.000000</td>\n",
       "      <td>1946.000000</td>\n",
       "      <td>1946.000000</td>\n",
       "      <td>1946.000000</td>\n",
       "    </tr>\n",
       "    <tr>\n",
       "      <th>mean</th>\n",
       "      <td>973.500000</td>\n",
       "      <td>0.745632</td>\n",
       "      <td>0.687050</td>\n",
       "      <td>0.634470</td>\n",
       "      <td>0.365530</td>\n",
       "      <td>0.619219</td>\n",
       "      <td>1577.364896</td>\n",
       "      <td>2950.193694</td>\n",
       "      <td>0.198356</td>\n",
       "      <td>0.374615</td>\n",
       "      <td>...</td>\n",
       "      <td>0.652174</td>\n",
       "      <td>0.778986</td>\n",
       "      <td>0.141829</td>\n",
       "      <td>0.460946</td>\n",
       "      <td>-1293.563510</td>\n",
       "      <td>0.305755</td>\n",
       "      <td>0.074512</td>\n",
       "      <td>0.059096</td>\n",
       "      <td>0.089584</td>\n",
       "      <td>0.745632</td>\n",
       "    </tr>\n",
       "    <tr>\n",
       "      <th>std</th>\n",
       "      <td>561.906131</td>\n",
       "      <td>0.435617</td>\n",
       "      <td>0.463813</td>\n",
       "      <td>0.312637</td>\n",
       "      <td>0.312637</td>\n",
       "      <td>0.485704</td>\n",
       "      <td>19565.414460</td>\n",
       "      <td>28192.245529</td>\n",
       "      <td>0.398864</td>\n",
       "      <td>0.484148</td>\n",
       "      <td>...</td>\n",
       "      <td>0.486985</td>\n",
       "      <td>0.415684</td>\n",
       "      <td>0.348965</td>\n",
       "      <td>0.498601</td>\n",
       "      <td>19564.340993</td>\n",
       "      <td>1.383910</td>\n",
       "      <td>0.262669</td>\n",
       "      <td>0.235864</td>\n",
       "      <td>0.160568</td>\n",
       "      <td>0.435617</td>\n",
       "    </tr>\n",
       "    <tr>\n",
       "      <th>min</th>\n",
       "      <td>1.000000</td>\n",
       "      <td>0.000000</td>\n",
       "      <td>0.000000</td>\n",
       "      <td>0.000000</td>\n",
       "      <td>0.000000</td>\n",
       "      <td>0.000000</td>\n",
       "      <td>-28.000000</td>\n",
       "      <td>0.000000</td>\n",
       "      <td>0.000000</td>\n",
       "      <td>0.000000</td>\n",
       "      <td>...</td>\n",
       "      <td>0.000000</td>\n",
       "      <td>0.000000</td>\n",
       "      <td>0.000000</td>\n",
       "      <td>0.000000</td>\n",
       "      <td>-298001.000000</td>\n",
       "      <td>0.000000</td>\n",
       "      <td>0.000000</td>\n",
       "      <td>0.000000</td>\n",
       "      <td>0.000000</td>\n",
       "      <td>0.000000</td>\n",
       "    </tr>\n",
       "    <tr>\n",
       "      <th>25%</th>\n",
       "      <td>487.250000</td>\n",
       "      <td>0.000000</td>\n",
       "      <td>0.000000</td>\n",
       "      <td>0.391250</td>\n",
       "      <td>0.101000</td>\n",
       "      <td>0.000000</td>\n",
       "      <td>NaN</td>\n",
       "      <td>NaN</td>\n",
       "      <td>0.000000</td>\n",
       "      <td>0.000000</td>\n",
       "      <td>...</td>\n",
       "      <td>NaN</td>\n",
       "      <td>NaN</td>\n",
       "      <td>0.000000</td>\n",
       "      <td>0.000000</td>\n",
       "      <td>NaN</td>\n",
       "      <td>0.000000</td>\n",
       "      <td>0.000000</td>\n",
       "      <td>0.000000</td>\n",
       "      <td>0.013378</td>\n",
       "      <td>0.000000</td>\n",
       "    </tr>\n",
       "    <tr>\n",
       "      <th>50%</th>\n",
       "      <td>973.500000</td>\n",
       "      <td>1.000000</td>\n",
       "      <td>1.000000</td>\n",
       "      <td>0.735500</td>\n",
       "      <td>0.264500</td>\n",
       "      <td>1.000000</td>\n",
       "      <td>NaN</td>\n",
       "      <td>NaN</td>\n",
       "      <td>0.000000</td>\n",
       "      <td>0.000000</td>\n",
       "      <td>...</td>\n",
       "      <td>NaN</td>\n",
       "      <td>NaN</td>\n",
       "      <td>0.000000</td>\n",
       "      <td>0.000000</td>\n",
       "      <td>NaN</td>\n",
       "      <td>0.000000</td>\n",
       "      <td>0.000000</td>\n",
       "      <td>0.000000</td>\n",
       "      <td>0.033445</td>\n",
       "      <td>1.000000</td>\n",
       "    </tr>\n",
       "    <tr>\n",
       "      <th>75%</th>\n",
       "      <td>1459.750000</td>\n",
       "      <td>1.000000</td>\n",
       "      <td>1.000000</td>\n",
       "      <td>0.899000</td>\n",
       "      <td>0.608750</td>\n",
       "      <td>1.000000</td>\n",
       "      <td>NaN</td>\n",
       "      <td>NaN</td>\n",
       "      <td>0.000000</td>\n",
       "      <td>1.000000</td>\n",
       "      <td>...</td>\n",
       "      <td>NaN</td>\n",
       "      <td>NaN</td>\n",
       "      <td>0.000000</td>\n",
       "      <td>1.000000</td>\n",
       "      <td>NaN</td>\n",
       "      <td>0.000000</td>\n",
       "      <td>0.000000</td>\n",
       "      <td>0.000000</td>\n",
       "      <td>0.086957</td>\n",
       "      <td>1.000000</td>\n",
       "    </tr>\n",
       "    <tr>\n",
       "      <th>max</th>\n",
       "      <td>1946.000000</td>\n",
       "      <td>1.000000</td>\n",
       "      <td>1.000000</td>\n",
       "      <td>1.000000</td>\n",
       "      <td>1.000000</td>\n",
       "      <td>1.000000</td>\n",
       "      <td>298299.000000</td>\n",
       "      <td>298299.000000</td>\n",
       "      <td>1.000000</td>\n",
       "      <td>1.000000</td>\n",
       "      <td>...</td>\n",
       "      <td>1.000000</td>\n",
       "      <td>1.000000</td>\n",
       "      <td>1.000000</td>\n",
       "      <td>1.000000</td>\n",
       "      <td>100.000000</td>\n",
       "      <td>15.000000</td>\n",
       "      <td>1.000000</td>\n",
       "      <td>1.000000</td>\n",
       "      <td>1.000000</td>\n",
       "      <td>1.000000</td>\n",
       "    </tr>\n",
       "  </tbody>\n",
       "</table>\n",
       "<p>8 rows × 25 columns</p>\n",
       "</div>"
      ],
      "text/plain": [
       "              S.No       actual         pred        alive         plod  \\\n",
       "count  1946.000000  1946.000000  1946.000000  1946.000000  1946.000000   \n",
       "mean    973.500000     0.745632     0.687050     0.634470     0.365530   \n",
       "std     561.906131     0.435617     0.463813     0.312637     0.312637   \n",
       "min       1.000000     0.000000     0.000000     0.000000     0.000000   \n",
       "25%     487.250000     0.000000     0.000000     0.391250     0.101000   \n",
       "50%     973.500000     1.000000     1.000000     0.735500     0.264500   \n",
       "75%    1459.750000     1.000000     1.000000     0.899000     0.608750   \n",
       "max    1946.000000     1.000000     1.000000     1.000000     1.000000   \n",
       "\n",
       "              male    dateOfBirth    DateoFdeath        book1        book2  \\\n",
       "count  1946.000000     433.000000     444.000000  1946.000000  1946.000000   \n",
       "mean      0.619219    1577.364896    2950.193694     0.198356     0.374615   \n",
       "std       0.485704   19565.414460   28192.245529     0.398864     0.484148   \n",
       "min       0.000000     -28.000000       0.000000     0.000000     0.000000   \n",
       "25%       0.000000            NaN            NaN     0.000000     0.000000   \n",
       "50%       1.000000            NaN            NaN     0.000000     0.000000   \n",
       "75%       1.000000            NaN            NaN     0.000000     1.000000   \n",
       "max       1.000000  298299.000000  298299.000000     1.000000     1.000000   \n",
       "\n",
       "          ...       isAliveHeir  isAliveSpouse    isMarried      isNoble  \\\n",
       "count     ...         23.000000     276.000000  1946.000000  1946.000000   \n",
       "mean      ...          0.652174       0.778986     0.141829     0.460946   \n",
       "std       ...          0.486985       0.415684     0.348965     0.498601   \n",
       "min       ...          0.000000       0.000000     0.000000     0.000000   \n",
       "25%       ...               NaN            NaN     0.000000     0.000000   \n",
       "50%       ...               NaN            NaN     0.000000     0.000000   \n",
       "75%       ...               NaN            NaN     0.000000     1.000000   \n",
       "max       ...          1.000000       1.000000     1.000000     1.000000   \n",
       "\n",
       "                 age  numDeadRelations  boolDeadRelations    isPopular  \\\n",
       "count     433.000000       1946.000000        1946.000000  1946.000000   \n",
       "mean    -1293.563510          0.305755           0.074512     0.059096   \n",
       "std     19564.340993          1.383910           0.262669     0.235864   \n",
       "min   -298001.000000          0.000000           0.000000     0.000000   \n",
       "25%              NaN          0.000000           0.000000     0.000000   \n",
       "50%              NaN          0.000000           0.000000     0.000000   \n",
       "75%              NaN          0.000000           0.000000     0.000000   \n",
       "max       100.000000         15.000000           1.000000     1.000000   \n",
       "\n",
       "        popularity      isAlive  \n",
       "count  1946.000000  1946.000000  \n",
       "mean      0.089584     0.745632  \n",
       "std       0.160568     0.435617  \n",
       "min       0.000000     0.000000  \n",
       "25%       0.013378     0.000000  \n",
       "50%       0.033445     1.000000  \n",
       "75%       0.086957     1.000000  \n",
       "max       1.000000     1.000000  \n",
       "\n",
       "[8 rows x 25 columns]"
      ]
     },
     "execution_count": 269,
     "metadata": {},
     "output_type": "execute_result"
    }
   ],
   "source": [
    "predictions.describe()"
   ]
  },
  {
   "cell_type": "code",
   "execution_count": 270,
   "metadata": {
    "collapsed": false
   },
   "outputs": [
    {
     "data": {
      "text/plain": [
       "Index([u'S.No', u'actual', u'pred', u'alive', u'plod', u'name', u'title',\n",
       "       u'male', u'culture', u'dateOfBirth', u'DateoFdeath', u'mother',\n",
       "       u'father', u'heir', u'house', u'spouse', u'book1', u'book2', u'book3',\n",
       "       u'book4', u'book5', u'isAliveMother', u'isAliveFather', u'isAliveHeir',\n",
       "       u'isAliveSpouse', u'isMarried', u'isNoble', u'age', u'numDeadRelations',\n",
       "       u'boolDeadRelations', u'isPopular', u'popularity', u'isAlive'],\n",
       "      dtype='object')"
      ]
     },
     "execution_count": 270,
     "metadata": {},
     "output_type": "execute_result"
    }
   ],
   "source": [
    "predictions.columns"
   ]
  },
  {
   "cell_type": "markdown",
   "metadata": {},
   "source": [
    "Looking at the dataset, there are a ton of missing data that will interfere with model building. Therefore I've decided to drop a chunk of minor characters by eliminating those that do not belong to a house."
   ]
  },
  {
   "cell_type": "code",
   "execution_count": 271,
   "metadata": {
    "collapsed": false
   },
   "outputs": [],
   "source": [
    "#dropping minor characters by eliminating those that do not belong to a house.\n",
    "predictions.dropna(subset=['house'], inplace=True)"
   ]
  },
  {
   "cell_type": "code",
   "execution_count": 272,
   "metadata": {
    "collapsed": false
   },
   "outputs": [],
   "source": [
    "#I would also like to drop other columns that I'd prefer to not look at. \n",
    "predictions.drop(predictions.columns[[0,1,2,3,4,9,10]],inplace=True,axis=1)"
   ]
  },
  {
   "cell_type": "code",
   "execution_count": 273,
   "metadata": {
    "collapsed": false
   },
   "outputs": [
    {
     "data": {
      "text/html": [
       "<div>\n",
       "<table border=\"1\" class=\"dataframe\">\n",
       "  <thead>\n",
       "    <tr style=\"text-align: right;\">\n",
       "      <th></th>\n",
       "      <th>name</th>\n",
       "      <th>title</th>\n",
       "      <th>male</th>\n",
       "      <th>culture</th>\n",
       "      <th>mother</th>\n",
       "      <th>father</th>\n",
       "      <th>heir</th>\n",
       "      <th>house</th>\n",
       "      <th>spouse</th>\n",
       "      <th>book1</th>\n",
       "      <th>...</th>\n",
       "      <th>isAliveHeir</th>\n",
       "      <th>isAliveSpouse</th>\n",
       "      <th>isMarried</th>\n",
       "      <th>isNoble</th>\n",
       "      <th>age</th>\n",
       "      <th>numDeadRelations</th>\n",
       "      <th>boolDeadRelations</th>\n",
       "      <th>isPopular</th>\n",
       "      <th>popularity</th>\n",
       "      <th>isAlive</th>\n",
       "    </tr>\n",
       "  </thead>\n",
       "  <tbody>\n",
       "    <tr>\n",
       "      <th>1</th>\n",
       "      <td>Walder Frey</td>\n",
       "      <td>Lord of the Crossing</td>\n",
       "      <td>1</td>\n",
       "      <td>Rivermen</td>\n",
       "      <td>NaN</td>\n",
       "      <td>NaN</td>\n",
       "      <td>NaN</td>\n",
       "      <td>House Frey</td>\n",
       "      <td>Perra Royce</td>\n",
       "      <td>1</td>\n",
       "      <td>...</td>\n",
       "      <td>NaN</td>\n",
       "      <td>1.0</td>\n",
       "      <td>1</td>\n",
       "      <td>1</td>\n",
       "      <td>97.0</td>\n",
       "      <td>1</td>\n",
       "      <td>1</td>\n",
       "      <td>1</td>\n",
       "      <td>0.896321</td>\n",
       "      <td>1</td>\n",
       "    </tr>\n",
       "    <tr>\n",
       "      <th>2</th>\n",
       "      <td>Addison Hill</td>\n",
       "      <td>Ser</td>\n",
       "      <td>1</td>\n",
       "      <td>NaN</td>\n",
       "      <td>NaN</td>\n",
       "      <td>NaN</td>\n",
       "      <td>NaN</td>\n",
       "      <td>House Swyft</td>\n",
       "      <td>NaN</td>\n",
       "      <td>0</td>\n",
       "      <td>...</td>\n",
       "      <td>NaN</td>\n",
       "      <td>NaN</td>\n",
       "      <td>0</td>\n",
       "      <td>1</td>\n",
       "      <td>NaN</td>\n",
       "      <td>0</td>\n",
       "      <td>0</td>\n",
       "      <td>0</td>\n",
       "      <td>0.267559</td>\n",
       "      <td>1</td>\n",
       "    </tr>\n",
       "    <tr>\n",
       "      <th>3</th>\n",
       "      <td>Aemma Arryn</td>\n",
       "      <td>Queen</td>\n",
       "      <td>0</td>\n",
       "      <td>NaN</td>\n",
       "      <td>NaN</td>\n",
       "      <td>NaN</td>\n",
       "      <td>NaN</td>\n",
       "      <td>House Arryn</td>\n",
       "      <td>Viserys I Targaryen</td>\n",
       "      <td>0</td>\n",
       "      <td>...</td>\n",
       "      <td>NaN</td>\n",
       "      <td>0.0</td>\n",
       "      <td>1</td>\n",
       "      <td>1</td>\n",
       "      <td>23.0</td>\n",
       "      <td>0</td>\n",
       "      <td>0</td>\n",
       "      <td>0</td>\n",
       "      <td>0.183946</td>\n",
       "      <td>0</td>\n",
       "    </tr>\n",
       "    <tr>\n",
       "      <th>4</th>\n",
       "      <td>Sylva Santagar</td>\n",
       "      <td>Greenstone</td>\n",
       "      <td>0</td>\n",
       "      <td>Dornish</td>\n",
       "      <td>NaN</td>\n",
       "      <td>NaN</td>\n",
       "      <td>NaN</td>\n",
       "      <td>House Santagar</td>\n",
       "      <td>Eldon Estermont</td>\n",
       "      <td>0</td>\n",
       "      <td>...</td>\n",
       "      <td>NaN</td>\n",
       "      <td>1.0</td>\n",
       "      <td>1</td>\n",
       "      <td>1</td>\n",
       "      <td>29.0</td>\n",
       "      <td>0</td>\n",
       "      <td>0</td>\n",
       "      <td>0</td>\n",
       "      <td>0.043478</td>\n",
       "      <td>1</td>\n",
       "    </tr>\n",
       "    <tr>\n",
       "      <th>6</th>\n",
       "      <td>Valarr Targaryen</td>\n",
       "      <td>Hand of the King</td>\n",
       "      <td>1</td>\n",
       "      <td>Valyrian</td>\n",
       "      <td>NaN</td>\n",
       "      <td>NaN</td>\n",
       "      <td>NaN</td>\n",
       "      <td>House Targaryen</td>\n",
       "      <td>Kiera of Tyrosh</td>\n",
       "      <td>0</td>\n",
       "      <td>...</td>\n",
       "      <td>NaN</td>\n",
       "      <td>1.0</td>\n",
       "      <td>1</td>\n",
       "      <td>1</td>\n",
       "      <td>26.0</td>\n",
       "      <td>0</td>\n",
       "      <td>0</td>\n",
       "      <td>1</td>\n",
       "      <td>0.431438</td>\n",
       "      <td>0</td>\n",
       "    </tr>\n",
       "  </tbody>\n",
       "</table>\n",
       "<p>5 rows × 26 columns</p>\n",
       "</div>"
      ],
      "text/plain": [
       "               name                 title  male   culture mother father heir  \\\n",
       "1       Walder Frey  Lord of the Crossing     1  Rivermen    NaN    NaN  NaN   \n",
       "2      Addison Hill                   Ser     1       NaN    NaN    NaN  NaN   \n",
       "3       Aemma Arryn                 Queen     0       NaN    NaN    NaN  NaN   \n",
       "4    Sylva Santagar            Greenstone     0   Dornish    NaN    NaN  NaN   \n",
       "6  Valarr Targaryen      Hand of the King     1  Valyrian    NaN    NaN  NaN   \n",
       "\n",
       "             house               spouse  book1   ...     isAliveHeir  \\\n",
       "1       House Frey          Perra Royce      1   ...             NaN   \n",
       "2      House Swyft                  NaN      0   ...             NaN   \n",
       "3      House Arryn  Viserys I Targaryen      0   ...             NaN   \n",
       "4   House Santagar      Eldon Estermont      0   ...             NaN   \n",
       "6  House Targaryen      Kiera of Tyrosh      0   ...             NaN   \n",
       "\n",
       "   isAliveSpouse  isMarried  isNoble   age  numDeadRelations  \\\n",
       "1            1.0          1        1  97.0                 1   \n",
       "2            NaN          0        1   NaN                 0   \n",
       "3            0.0          1        1  23.0                 0   \n",
       "4            1.0          1        1  29.0                 0   \n",
       "6            1.0          1        1  26.0                 0   \n",
       "\n",
       "   boolDeadRelations  isPopular  popularity  isAlive  \n",
       "1                  1          1    0.896321        1  \n",
       "2                  0          0    0.267559        1  \n",
       "3                  0          0    0.183946        0  \n",
       "4                  0          0    0.043478        1  \n",
       "6                  0          1    0.431438        0  \n",
       "\n",
       "[5 rows x 26 columns]"
      ]
     },
     "execution_count": 273,
     "metadata": {},
     "output_type": "execute_result"
    }
   ],
   "source": [
    "predictions.head()"
   ]
  },
  {
   "cell_type": "code",
   "execution_count": 274,
   "metadata": {
    "collapsed": false
   },
   "outputs": [
    {
     "data": {
      "text/plain": [
       "(1519, 26)"
      ]
     },
     "execution_count": 274,
     "metadata": {},
     "output_type": "execute_result"
    }
   ],
   "source": [
    "#The dataset has become smaller and more concise\n",
    "predictions.shape"
   ]
  },
  {
   "cell_type": "markdown",
   "metadata": {},
   "source": [
    "### Explorational analysis (choosing the independant and dependant variables)"
   ]
  },
  {
   "cell_type": "markdown",
   "metadata": {},
   "source": [
    "I will be using 'isAlive' as my independant variable and possibly 'name' as my index since I am trying to predict the likelihood of death. The following is a list of features that I believe should be informative. \n",
    "\n",
    "Feature | Explanation\n",
    "---|---|\n",
    "book5 | Character's appearance in the book \n",
    "book4 | Character's appearance in the book\n",
    "book3 | Character's appearance in the book \n",
    "book2 | Character's appearance in the book\n",
    "book1 | Character's appearance in the book \n",
    "culture| Social group to which a character belongs\n",
    "IsNoble |\tCharacter's nobility based on Title\n",
    "male\t| Whether the character is male or not\n",
    "title\t| Social status or nobility\n",
    "age | Character's age  \n",
    "house | Represents the family that the character pays allegiance to\n",
    "boolDeadRelations| Represents whether a character is related to another dead character\n",
    "popularity | A score of how popular a character is\t\n",
    "isMarried | Represents whether the character is married\n",
    "isAliveSpouse | Represents whether character's spouse is alive\n",
    "isAliveFather | Represents whether character's father is alive\n",
    "isAliveMother | Represents whether character's mother is alive\n",
    "isAliveHeir  | Represents whether character's heir is alive\n",
    "numDeadRelations |\tNumber of dead characters to whom a character is related"
   ]
  },
  {
   "cell_type": "markdown",
   "metadata": {},
   "source": [
    "### Are women more likely to survive than men?"
   ]
  },
  {
   "cell_type": "markdown",
   "metadata": {},
   "source": [
    "It turns out that women are more likely to survive than men. This is maybe due to the fact that there are less women that participates in battles between houses. "
   ]
  },
  {
   "cell_type": "code",
   "execution_count": 275,
   "metadata": {
    "collapsed": false
   },
   "outputs": [
    {
     "data": {
      "image/png": "[encoded data removed]",
      "text/plain": [
       "<matplotlib.figure.Figure at 0x124e21150>"
      ]
     },
     "metadata": {},
     "output_type": "display_data"
    }
   ],
   "source": [
    "data = predictions.groupby([\"male\", \"isAlive\"]).count()[\"name\"].unstack().copy(deep = True)\n",
    "p = data.div(data.sum(axis = 1), axis = 0).plot.barh(stacked = True, rot = 0, width = .3, figsize=(8,6))\n",
    "_ = p.set(yticklabels = [\"Women\", \"Men\"], xticklabels = \"\", xlabel = \"Proportion of Dead vs. Alive\", ylabel = \"Gender of the Character\"), p.legend([\"Dead\", \"Alive\"])"
   ]
  },
  {
   "cell_type": "markdown",
   "metadata": {},
   "source": [
    "### Does being noble mean you're more likely to die?"
   ]
  },
  {
   "cell_type": "markdown",
   "metadata": {},
   "source": [
    "Looks like being noble actually means you're more likely to die, whereas the survival rates are quite similar between the nobility and the commoners."
   ]
  },
  {
   "cell_type": "code",
   "execution_count": 276,
   "metadata": {
    "collapsed": false
   },
   "outputs": [
    {
     "data": {
      "image/png": "[encoded data removed]",
      "text/plain": [
       "<matplotlib.figure.Figure at 0x123ebc8d0>"
      ]
     },
     "metadata": {},
     "output_type": "display_data"
    }
   ],
   "source": [
    "data = predictions.groupby([\"isNoble\", \"isAlive\"]).count()[\"name\"].unstack().copy(deep = True)\n",
    "p = data.div(data.sum(axis = 1), axis = 0).plot.barh(stacked = True, rot = 0, width = .3, figsize=(8,6))\n",
    "_ = p.set(yticklabels = [\"Commoner\", \"Nobility\"], xticklabels = \"\", xlabel = \"Proportion of Dead vs. Alive\", ylabel = \"Character Class\"), p.legend([\"Dead\", \"Alive\"])"
   ]
  },
  {
   "cell_type": "markdown",
   "metadata": {},
   "source": [
    "### How have marriages been affected by the high death tolls? "
   ]
  },
  {
   "cell_type": "markdown",
   "metadata": {},
   "source": [
    "Looks like most characters are unmarried or we don't have information on whether or not they are married. A high percentage of spouses of characters with spouses are still alive. "
   ]
  },
  {
   "cell_type": "code",
   "execution_count": 277,
   "metadata": {
    "collapsed": false
   },
   "outputs": [
    {
     "data": {
      "text/plain": [
       "array([<matplotlib.axes._subplots.AxesSubplot object at 0x1251e59d0>,\n",
       "       <matplotlib.axes._subplots.AxesSubplot object at 0x125771550>], dtype=object)"
      ]
     },
     "execution_count": 277,
     "metadata": {},
     "output_type": "execute_result"
    },
    {
     "data": {
      "text/plain": [
       "<matplotlib.figure.Figure at 0x124e21450>"
      ]
     },
     "metadata": {},
     "output_type": "display_data"
    },
    {
     "data": {
      "image/png": "[encoded data removed]",
      "text/plain": [
       "<matplotlib.figure.Figure at 0x1251ab990>"
      ]
     },
     "metadata": {},
     "output_type": "display_data"
    }
   ],
   "source": [
    "plt.figure(figsize=(12,12))\n",
    "d = pd.DataFrame({'isMarried': predictions.isMarried, 'isAliveSpouse': predictions.isAliveSpouse})\n",
    "d.apply(pd.value_counts).plot(kind='bar', subplots=True)"
   ]
  },
  {
   "cell_type": "markdown",
   "metadata": {},
   "source": [
    "### Which of the major houses suffered the most deaths?"
   ]
  },
  {
   "cell_type": "markdown",
   "metadata": {},
   "source": [
    "I'm going to select the following houses for comparison: Lannister, Frey, Martell, Tyrell, Stark, Targaryen, Tully, Greyjoy, Arryn, and the Night's watch"
   ]
  },
  {
   "cell_type": "code",
   "execution_count": 278,
   "metadata": {
    "collapsed": false
   },
   "outputs": [
    {
     "name": "stdout",
     "output_type": "stream",
     "text": [
      "House Lannister: 18\n",
      "House Frey: 14\n",
      "House Martell: 4\n",
      "House Tyrell: 2\n",
      "House Stark: 22\n",
      "House Targaryen: 41\n",
      "House Tully: 7\n",
      "House Greyjoy: 14\n",
      "House Arryn: 6\n"
     ]
    }
   ],
   "source": [
    "# Create boolean variables for each house\n",
    "Lannister = predictions['house'] == \"House Lannister\"\n",
    "Frey = predictions['house'] == \"House Frey\"\n",
    "Martell = predictions['house'] == \"House Martell\"\n",
    "Tyrell = predictions['house'] == \"House Tyrell\"\n",
    "Stark = predictions['house'] == \"House Stark\"\n",
    "Targaryen = predictions['house'] == \"House Targaryen\"\n",
    "Tully = predictions['house'] == \"House Tully\"\n",
    "Greyjoy = predictions['house'] == \"House Greyjoy\"\n",
    "Arryn = predictions['house'] == \"House Arryn\"\n",
    "Nightswatch = predictions['house'] ==\"Night's Watch\"\n",
    "\n",
    "# Create variable with TRUE if isAlive == 0 \n",
    "dead = predictions['isAlive'] == 0\n",
    "\n",
    "# Select all cases where house is ___ and character is dead\n",
    "print (\"House Lannister:\"), predictions[Lannister & dead].isAlive.count()\n",
    "print (\"House Frey:\"), predictions[Frey & dead].isAlive.count()\n",
    "print (\"House Martell:\"), predictions[Martell & dead].isAlive.count()\n",
    "print (\"House Tyrell:\"), predictions[Tyrell & dead].isAlive.count()\n",
    "print (\"House Stark:\"), predictions[Stark & dead].isAlive.count()\n",
    "print (\"House Targaryen:\"), predictions[Targaryen & dead].isAlive.count()\n",
    "print (\"House Tully:\"), predictions[Tully & dead].isAlive.count()\n",
    "print (\"House Greyjoy:\"), predictions[Greyjoy & dead].isAlive.count()\n",
    "print (\"House Arryn:\"), predictions[Arryn & dead].isAlive.count()"
   ]
  },
  {
   "cell_type": "markdown",
   "metadata": {},
   "source": [
    "It turns out that House Targaryen suffered the most number of deaths, followed by House Stark. This makes sense as the Targaryen family was wiped out before the beginning of the series and House Stark has since then been mostly annihilated by its enemies as well. I'm going to create a new feature that has contains the top 3 houses with the highest death toll. "
   ]
  },
  {
   "cell_type": "markdown",
   "metadata": {},
   "source": [
    "### Summary of the Explorational Analysis "
   ]
  },
  {
   "cell_type": "markdown",
   "metadata": {},
   "source": [
    "- The data set that I'm looking at after cleaning has 1519 observations and 26 columns/features\n",
    "- Women are more likely to survive than men\n",
    "- Commoners are more likley to survive when compared to the noble class\n",
    "- Most characters are unmarried\n",
    "- House Targaryen suffered the most number of deaths"
   ]
  },
  {
   "cell_type": "markdown",
   "metadata": {},
   "source": [
    "### Feature Engineering"
   ]
  },
  {
   "cell_type": "code",
   "execution_count": 279,
   "metadata": {
    "collapsed": false
   },
   "outputs": [],
   "source": [
    "#Creating a new boolean feature for whether or not a character belongs to most unfortunate houses \n",
    "predictions['badluckhouses'] = np.where(predictions['house'] == \"House Lannister\", True, False)\n",
    "predictions['badluckhouses'] = np.where(predictions['house'] == \"House Stark\", True, False)\n",
    "predictions['badluckhouses'] = np.where(predictions['house'] == \"House Targaryen\", True, False)"
   ]
  },
  {
   "cell_type": "code",
   "execution_count": 280,
   "metadata": {
    "collapsed": false
   },
   "outputs": [
    {
     "data": {
      "text/html": [
       "<div>\n",
       "<table border=\"1\" class=\"dataframe\">\n",
       "  <thead>\n",
       "    <tr style=\"text-align: right;\">\n",
       "      <th></th>\n",
       "      <th>name</th>\n",
       "      <th>title</th>\n",
       "      <th>male</th>\n",
       "      <th>culture</th>\n",
       "      <th>mother</th>\n",
       "      <th>father</th>\n",
       "      <th>heir</th>\n",
       "      <th>house</th>\n",
       "      <th>spouse</th>\n",
       "      <th>book1</th>\n",
       "      <th>...</th>\n",
       "      <th>isAliveSpouse</th>\n",
       "      <th>isMarried</th>\n",
       "      <th>isNoble</th>\n",
       "      <th>age</th>\n",
       "      <th>numDeadRelations</th>\n",
       "      <th>boolDeadRelations</th>\n",
       "      <th>isPopular</th>\n",
       "      <th>popularity</th>\n",
       "      <th>isAlive</th>\n",
       "      <th>badluckhouses</th>\n",
       "    </tr>\n",
       "  </thead>\n",
       "  <tbody>\n",
       "    <tr>\n",
       "      <th>1</th>\n",
       "      <td>Walder Frey</td>\n",
       "      <td>Lord of the Crossing</td>\n",
       "      <td>1</td>\n",
       "      <td>Rivermen</td>\n",
       "      <td>NaN</td>\n",
       "      <td>NaN</td>\n",
       "      <td>NaN</td>\n",
       "      <td>House Frey</td>\n",
       "      <td>Perra Royce</td>\n",
       "      <td>1</td>\n",
       "      <td>...</td>\n",
       "      <td>1.0</td>\n",
       "      <td>1</td>\n",
       "      <td>1</td>\n",
       "      <td>97.0</td>\n",
       "      <td>1</td>\n",
       "      <td>1</td>\n",
       "      <td>1</td>\n",
       "      <td>0.896321</td>\n",
       "      <td>1</td>\n",
       "      <td>False</td>\n",
       "    </tr>\n",
       "    <tr>\n",
       "      <th>2</th>\n",
       "      <td>Addison Hill</td>\n",
       "      <td>Ser</td>\n",
       "      <td>1</td>\n",
       "      <td>NaN</td>\n",
       "      <td>NaN</td>\n",
       "      <td>NaN</td>\n",
       "      <td>NaN</td>\n",
       "      <td>House Swyft</td>\n",
       "      <td>NaN</td>\n",
       "      <td>0</td>\n",
       "      <td>...</td>\n",
       "      <td>NaN</td>\n",
       "      <td>0</td>\n",
       "      <td>1</td>\n",
       "      <td>NaN</td>\n",
       "      <td>0</td>\n",
       "      <td>0</td>\n",
       "      <td>0</td>\n",
       "      <td>0.267559</td>\n",
       "      <td>1</td>\n",
       "      <td>False</td>\n",
       "    </tr>\n",
       "    <tr>\n",
       "      <th>3</th>\n",
       "      <td>Aemma Arryn</td>\n",
       "      <td>Queen</td>\n",
       "      <td>0</td>\n",
       "      <td>NaN</td>\n",
       "      <td>NaN</td>\n",
       "      <td>NaN</td>\n",
       "      <td>NaN</td>\n",
       "      <td>House Arryn</td>\n",
       "      <td>Viserys I Targaryen</td>\n",
       "      <td>0</td>\n",
       "      <td>...</td>\n",
       "      <td>0.0</td>\n",
       "      <td>1</td>\n",
       "      <td>1</td>\n",
       "      <td>23.0</td>\n",
       "      <td>0</td>\n",
       "      <td>0</td>\n",
       "      <td>0</td>\n",
       "      <td>0.183946</td>\n",
       "      <td>0</td>\n",
       "      <td>False</td>\n",
       "    </tr>\n",
       "    <tr>\n",
       "      <th>4</th>\n",
       "      <td>Sylva Santagar</td>\n",
       "      <td>Greenstone</td>\n",
       "      <td>0</td>\n",
       "      <td>Dornish</td>\n",
       "      <td>NaN</td>\n",
       "      <td>NaN</td>\n",
       "      <td>NaN</td>\n",
       "      <td>House Santagar</td>\n",
       "      <td>Eldon Estermont</td>\n",
       "      <td>0</td>\n",
       "      <td>...</td>\n",
       "      <td>1.0</td>\n",
       "      <td>1</td>\n",
       "      <td>1</td>\n",
       "      <td>29.0</td>\n",
       "      <td>0</td>\n",
       "      <td>0</td>\n",
       "      <td>0</td>\n",
       "      <td>0.043478</td>\n",
       "      <td>1</td>\n",
       "      <td>False</td>\n",
       "    </tr>\n",
       "    <tr>\n",
       "      <th>6</th>\n",
       "      <td>Valarr Targaryen</td>\n",
       "      <td>Hand of the King</td>\n",
       "      <td>1</td>\n",
       "      <td>Valyrian</td>\n",
       "      <td>NaN</td>\n",
       "      <td>NaN</td>\n",
       "      <td>NaN</td>\n",
       "      <td>House Targaryen</td>\n",
       "      <td>Kiera of Tyrosh</td>\n",
       "      <td>0</td>\n",
       "      <td>...</td>\n",
       "      <td>1.0</td>\n",
       "      <td>1</td>\n",
       "      <td>1</td>\n",
       "      <td>26.0</td>\n",
       "      <td>0</td>\n",
       "      <td>0</td>\n",
       "      <td>1</td>\n",
       "      <td>0.431438</td>\n",
       "      <td>0</td>\n",
       "      <td>True</td>\n",
       "    </tr>\n",
       "  </tbody>\n",
       "</table>\n",
       "<p>5 rows × 27 columns</p>\n",
       "</div>"
      ],
      "text/plain": [
       "               name                 title  male   culture mother father heir  \\\n",
       "1       Walder Frey  Lord of the Crossing     1  Rivermen    NaN    NaN  NaN   \n",
       "2      Addison Hill                   Ser     1       NaN    NaN    NaN  NaN   \n",
       "3       Aemma Arryn                 Queen     0       NaN    NaN    NaN  NaN   \n",
       "4    Sylva Santagar            Greenstone     0   Dornish    NaN    NaN  NaN   \n",
       "6  Valarr Targaryen      Hand of the King     1  Valyrian    NaN    NaN  NaN   \n",
       "\n",
       "             house               spouse  book1      ...        isAliveSpouse  \\\n",
       "1       House Frey          Perra Royce      1      ...                  1.0   \n",
       "2      House Swyft                  NaN      0      ...                  NaN   \n",
       "3      House Arryn  Viserys I Targaryen      0      ...                  0.0   \n",
       "4   House Santagar      Eldon Estermont      0      ...                  1.0   \n",
       "6  House Targaryen      Kiera of Tyrosh      0      ...                  1.0   \n",
       "\n",
       "   isMarried  isNoble   age  numDeadRelations  boolDeadRelations  isPopular  \\\n",
       "1          1        1  97.0                 1                  1          1   \n",
       "2          0        1   NaN                 0                  0          0   \n",
       "3          1        1  23.0                 0                  0          0   \n",
       "4          1        1  29.0                 0                  0          0   \n",
       "6          1        1  26.0                 0                  0          1   \n",
       "\n",
       "   popularity  isAlive  badluckhouses  \n",
       "1    0.896321        1          False  \n",
       "2    0.267559        1          False  \n",
       "3    0.183946        0          False  \n",
       "4    0.043478        1          False  \n",
       "6    0.431438        0           True  \n",
       "\n",
       "[5 rows x 27 columns]"
      ]
     },
     "execution_count": 280,
     "metadata": {},
     "output_type": "execute_result"
    }
   ],
   "source": [
    "#Here I'm double checking if the feature turned out correct...and it works. \n",
    "#Valarr Targaryen of House Targaryen is identified as a member of the 'badluckhouses'\n",
    "predictions.head()"
   ]
  },
  {
   "cell_type": "markdown",
   "metadata": {},
   "source": [
    "### Correlations"
   ]
  },
  {
   "cell_type": "code",
   "execution_count": 281,
   "metadata": {
    "collapsed": false
   },
   "outputs": [
    {
     "data": {
      "text/html": [
       "<div>\n",
       "<table border=\"1\" class=\"dataframe\">\n",
       "  <thead>\n",
       "    <tr style=\"text-align: right;\">\n",
       "      <th></th>\n",
       "      <th>male</th>\n",
       "      <th>book1</th>\n",
       "      <th>book2</th>\n",
       "      <th>book3</th>\n",
       "      <th>book4</th>\n",
       "      <th>book5</th>\n",
       "      <th>isAliveMother</th>\n",
       "      <th>isAliveFather</th>\n",
       "      <th>isAliveHeir</th>\n",
       "      <th>isAliveSpouse</th>\n",
       "      <th>isMarried</th>\n",
       "      <th>isNoble</th>\n",
       "      <th>age</th>\n",
       "      <th>numDeadRelations</th>\n",
       "      <th>boolDeadRelations</th>\n",
       "      <th>isPopular</th>\n",
       "      <th>popularity</th>\n",
       "      <th>isAlive</th>\n",
       "      <th>badluckhouses</th>\n",
       "    </tr>\n",
       "  </thead>\n",
       "  <tbody>\n",
       "    <tr>\n",
       "      <th>male</th>\n",
       "      <td>1.000000</td>\n",
       "      <td>0.098621</td>\n",
       "      <td>0.058499</td>\n",
       "      <td>0.035639</td>\n",
       "      <td>-0.051716</td>\n",
       "      <td>0.083030</td>\n",
       "      <td>NaN</td>\n",
       "      <td>NaN</td>\n",
       "      <td>NaN</td>\n",
       "      <td>0.242687</td>\n",
       "      <td>-0.091761</td>\n",
       "      <td>0.186958</td>\n",
       "      <td>0.087690</td>\n",
       "      <td>0.005911</td>\n",
       "      <td>0.031178</td>\n",
       "      <td>0.111716</td>\n",
       "      <td>0.114316</td>\n",
       "      <td>-0.136998</td>\n",
       "      <td>-0.049561</td>\n",
       "    </tr>\n",
       "    <tr>\n",
       "      <th>book1</th>\n",
       "      <td>0.098621</td>\n",
       "      <td>1.000000</td>\n",
       "      <td>0.411571</td>\n",
       "      <td>0.259365</td>\n",
       "      <td>0.082689</td>\n",
       "      <td>0.276324</td>\n",
       "      <td>NaN</td>\n",
       "      <td>NaN</td>\n",
       "      <td>NaN</td>\n",
       "      <td>0.081662</td>\n",
       "      <td>0.068641</td>\n",
       "      <td>0.080835</td>\n",
       "      <td>-0.105250</td>\n",
       "      <td>0.255788</td>\n",
       "      <td>0.278294</td>\n",
       "      <td>0.311605</td>\n",
       "      <td>0.399469</td>\n",
       "      <td>-0.148420</td>\n",
       "      <td>0.017976</td>\n",
       "    </tr>\n",
       "    <tr>\n",
       "      <th>book2</th>\n",
       "      <td>0.058499</td>\n",
       "      <td>0.411571</td>\n",
       "      <td>1.000000</td>\n",
       "      <td>0.485758</td>\n",
       "      <td>0.203473</td>\n",
       "      <td>0.219118</td>\n",
       "      <td>NaN</td>\n",
       "      <td>NaN</td>\n",
       "      <td>NaN</td>\n",
       "      <td>0.069108</td>\n",
       "      <td>0.133213</td>\n",
       "      <td>-0.005813</td>\n",
       "      <td>-0.054908</td>\n",
       "      <td>0.123557</td>\n",
       "      <td>0.150884</td>\n",
       "      <td>0.191691</td>\n",
       "      <td>0.314390</td>\n",
       "      <td>-0.053686</td>\n",
       "      <td>-0.067947</td>\n",
       "    </tr>\n",
       "    <tr>\n",
       "      <th>book3</th>\n",
       "      <td>0.035639</td>\n",
       "      <td>0.259365</td>\n",
       "      <td>0.485758</td>\n",
       "      <td>1.000000</td>\n",
       "      <td>0.394086</td>\n",
       "      <td>0.273822</td>\n",
       "      <td>NaN</td>\n",
       "      <td>NaN</td>\n",
       "      <td>NaN</td>\n",
       "      <td>0.095255</td>\n",
       "      <td>0.119850</td>\n",
       "      <td>-0.017409</td>\n",
       "      <td>0.028136</td>\n",
       "      <td>0.111505</td>\n",
       "      <td>0.160710</td>\n",
       "      <td>0.177242</td>\n",
       "      <td>0.288954</td>\n",
       "      <td>0.013176</td>\n",
       "      <td>-0.090703</td>\n",
       "    </tr>\n",
       "    <tr>\n",
       "      <th>book4</th>\n",
       "      <td>-0.051716</td>\n",
       "      <td>0.082689</td>\n",
       "      <td>0.203473</td>\n",
       "      <td>0.394086</td>\n",
       "      <td>1.000000</td>\n",
       "      <td>0.375727</td>\n",
       "      <td>NaN</td>\n",
       "      <td>NaN</td>\n",
       "      <td>NaN</td>\n",
       "      <td>0.216068</td>\n",
       "      <td>0.108880</td>\n",
       "      <td>0.031265</td>\n",
       "      <td>0.036520</td>\n",
       "      <td>0.055972</td>\n",
       "      <td>0.085376</td>\n",
       "      <td>0.104653</td>\n",
       "      <td>0.196822</td>\n",
       "      <td>0.291318</td>\n",
       "      <td>-0.133678</td>\n",
       "    </tr>\n",
       "    <tr>\n",
       "      <th>book5</th>\n",
       "      <td>0.083030</td>\n",
       "      <td>0.276324</td>\n",
       "      <td>0.219118</td>\n",
       "      <td>0.273822</td>\n",
       "      <td>0.375727</td>\n",
       "      <td>1.000000</td>\n",
       "      <td>NaN</td>\n",
       "      <td>NaN</td>\n",
       "      <td>NaN</td>\n",
       "      <td>0.135018</td>\n",
       "      <td>0.058059</td>\n",
       "      <td>0.094312</td>\n",
       "      <td>0.012597</td>\n",
       "      <td>0.165767</td>\n",
       "      <td>0.212134</td>\n",
       "      <td>0.180815</td>\n",
       "      <td>0.273713</td>\n",
       "      <td>0.081801</td>\n",
       "      <td>0.004650</td>\n",
       "    </tr>\n",
       "    <tr>\n",
       "      <th>isAliveMother</th>\n",
       "      <td>NaN</td>\n",
       "      <td>NaN</td>\n",
       "      <td>NaN</td>\n",
       "      <td>NaN</td>\n",
       "      <td>NaN</td>\n",
       "      <td>NaN</td>\n",
       "      <td>NaN</td>\n",
       "      <td>NaN</td>\n",
       "      <td>NaN</td>\n",
       "      <td>NaN</td>\n",
       "      <td>NaN</td>\n",
       "      <td>NaN</td>\n",
       "      <td>NaN</td>\n",
       "      <td>NaN</td>\n",
       "      <td>NaN</td>\n",
       "      <td>NaN</td>\n",
       "      <td>NaN</td>\n",
       "      <td>NaN</td>\n",
       "      <td>NaN</td>\n",
       "    </tr>\n",
       "    <tr>\n",
       "      <th>isAliveFather</th>\n",
       "      <td>NaN</td>\n",
       "      <td>NaN</td>\n",
       "      <td>NaN</td>\n",
       "      <td>NaN</td>\n",
       "      <td>NaN</td>\n",
       "      <td>NaN</td>\n",
       "      <td>NaN</td>\n",
       "      <td>NaN</td>\n",
       "      <td>NaN</td>\n",
       "      <td>NaN</td>\n",
       "      <td>NaN</td>\n",
       "      <td>NaN</td>\n",
       "      <td>NaN</td>\n",
       "      <td>NaN</td>\n",
       "      <td>NaN</td>\n",
       "      <td>NaN</td>\n",
       "      <td>NaN</td>\n",
       "      <td>NaN</td>\n",
       "      <td>NaN</td>\n",
       "    </tr>\n",
       "    <tr>\n",
       "      <th>isAliveHeir</th>\n",
       "      <td>NaN</td>\n",
       "      <td>NaN</td>\n",
       "      <td>NaN</td>\n",
       "      <td>NaN</td>\n",
       "      <td>NaN</td>\n",
       "      <td>NaN</td>\n",
       "      <td>NaN</td>\n",
       "      <td>NaN</td>\n",
       "      <td>NaN</td>\n",
       "      <td>NaN</td>\n",
       "      <td>NaN</td>\n",
       "      <td>NaN</td>\n",
       "      <td>NaN</td>\n",
       "      <td>NaN</td>\n",
       "      <td>NaN</td>\n",
       "      <td>NaN</td>\n",
       "      <td>NaN</td>\n",
       "      <td>NaN</td>\n",
       "      <td>NaN</td>\n",
       "    </tr>\n",
       "    <tr>\n",
       "      <th>isAliveSpouse</th>\n",
       "      <td>0.242687</td>\n",
       "      <td>0.081662</td>\n",
       "      <td>0.069108</td>\n",
       "      <td>0.095255</td>\n",
       "      <td>0.216068</td>\n",
       "      <td>0.135018</td>\n",
       "      <td>NaN</td>\n",
       "      <td>NaN</td>\n",
       "      <td>NaN</td>\n",
       "      <td>1.000000</td>\n",
       "      <td>NaN</td>\n",
       "      <td>-0.000313</td>\n",
       "      <td>0.029252</td>\n",
       "      <td>-0.216696</td>\n",
       "      <td>-0.180672</td>\n",
       "      <td>-0.035905</td>\n",
       "      <td>-0.079872</td>\n",
       "      <td>0.183096</td>\n",
       "      <td>-0.199595</td>\n",
       "    </tr>\n",
       "    <tr>\n",
       "      <th>isMarried</th>\n",
       "      <td>-0.091761</td>\n",
       "      <td>0.068641</td>\n",
       "      <td>0.133213</td>\n",
       "      <td>0.119850</td>\n",
       "      <td>0.108880</td>\n",
       "      <td>0.058059</td>\n",
       "      <td>NaN</td>\n",
       "      <td>NaN</td>\n",
       "      <td>NaN</td>\n",
       "      <td>NaN</td>\n",
       "      <td>1.000000</td>\n",
       "      <td>0.170229</td>\n",
       "      <td>0.047372</td>\n",
       "      <td>0.238565</td>\n",
       "      <td>0.229773</td>\n",
       "      <td>0.188864</td>\n",
       "      <td>0.319645</td>\n",
       "      <td>-0.057676</td>\n",
       "      <td>0.135928</td>\n",
       "    </tr>\n",
       "    <tr>\n",
       "      <th>isNoble</th>\n",
       "      <td>0.186958</td>\n",
       "      <td>0.080835</td>\n",
       "      <td>-0.005813</td>\n",
       "      <td>-0.017409</td>\n",
       "      <td>0.031265</td>\n",
       "      <td>0.094312</td>\n",
       "      <td>NaN</td>\n",
       "      <td>NaN</td>\n",
       "      <td>NaN</td>\n",
       "      <td>-0.000313</td>\n",
       "      <td>0.170229</td>\n",
       "      <td>1.000000</td>\n",
       "      <td>0.071714</td>\n",
       "      <td>0.155278</td>\n",
       "      <td>0.141254</td>\n",
       "      <td>0.185469</td>\n",
       "      <td>0.217856</td>\n",
       "      <td>-0.067108</td>\n",
       "      <td>0.082853</td>\n",
       "    </tr>\n",
       "    <tr>\n",
       "      <th>age</th>\n",
       "      <td>0.087690</td>\n",
       "      <td>-0.105250</td>\n",
       "      <td>-0.054908</td>\n",
       "      <td>0.028136</td>\n",
       "      <td>0.036520</td>\n",
       "      <td>0.012597</td>\n",
       "      <td>NaN</td>\n",
       "      <td>NaN</td>\n",
       "      <td>NaN</td>\n",
       "      <td>0.029252</td>\n",
       "      <td>0.047372</td>\n",
       "      <td>0.071714</td>\n",
       "      <td>1.000000</td>\n",
       "      <td>-0.062389</td>\n",
       "      <td>-0.046615</td>\n",
       "      <td>0.031284</td>\n",
       "      <td>0.018563</td>\n",
       "      <td>0.093145</td>\n",
       "      <td>-0.196127</td>\n",
       "    </tr>\n",
       "    <tr>\n",
       "      <th>numDeadRelations</th>\n",
       "      <td>0.005911</td>\n",
       "      <td>0.255788</td>\n",
       "      <td>0.123557</td>\n",
       "      <td>0.111505</td>\n",
       "      <td>0.055972</td>\n",
       "      <td>0.165767</td>\n",
       "      <td>NaN</td>\n",
       "      <td>NaN</td>\n",
       "      <td>NaN</td>\n",
       "      <td>-0.216696</td>\n",
       "      <td>0.238565</td>\n",
       "      <td>0.155278</td>\n",
       "      <td>-0.062389</td>\n",
       "      <td>1.000000</td>\n",
       "      <td>0.760375</td>\n",
       "      <td>0.430803</td>\n",
       "      <td>0.553020</td>\n",
       "      <td>-0.142543</td>\n",
       "      <td>0.300366</td>\n",
       "    </tr>\n",
       "    <tr>\n",
       "      <th>boolDeadRelations</th>\n",
       "      <td>0.031178</td>\n",
       "      <td>0.278294</td>\n",
       "      <td>0.150884</td>\n",
       "      <td>0.160710</td>\n",
       "      <td>0.085376</td>\n",
       "      <td>0.212134</td>\n",
       "      <td>NaN</td>\n",
       "      <td>NaN</td>\n",
       "      <td>NaN</td>\n",
       "      <td>-0.180672</td>\n",
       "      <td>0.229773</td>\n",
       "      <td>0.141254</td>\n",
       "      <td>-0.046615</td>\n",
       "      <td>0.760375</td>\n",
       "      <td>1.000000</td>\n",
       "      <td>0.431971</td>\n",
       "      <td>0.534426</td>\n",
       "      <td>-0.162916</td>\n",
       "      <td>0.186281</td>\n",
       "    </tr>\n",
       "    <tr>\n",
       "      <th>isPopular</th>\n",
       "      <td>0.111716</td>\n",
       "      <td>0.311605</td>\n",
       "      <td>0.191691</td>\n",
       "      <td>0.177242</td>\n",
       "      <td>0.104653</td>\n",
       "      <td>0.180815</td>\n",
       "      <td>NaN</td>\n",
       "      <td>NaN</td>\n",
       "      <td>NaN</td>\n",
       "      <td>-0.035905</td>\n",
       "      <td>0.188864</td>\n",
       "      <td>0.185469</td>\n",
       "      <td>0.031284</td>\n",
       "      <td>0.430803</td>\n",
       "      <td>0.431971</td>\n",
       "      <td>1.000000</td>\n",
       "      <td>0.837051</td>\n",
       "      <td>-0.097068</td>\n",
       "      <td>0.063703</td>\n",
       "    </tr>\n",
       "    <tr>\n",
       "      <th>popularity</th>\n",
       "      <td>0.114316</td>\n",
       "      <td>0.399469</td>\n",
       "      <td>0.314390</td>\n",
       "      <td>0.288954</td>\n",
       "      <td>0.196822</td>\n",
       "      <td>0.273713</td>\n",
       "      <td>NaN</td>\n",
       "      <td>NaN</td>\n",
       "      <td>NaN</td>\n",
       "      <td>-0.079872</td>\n",
       "      <td>0.319645</td>\n",
       "      <td>0.217856</td>\n",
       "      <td>0.018563</td>\n",
       "      <td>0.553020</td>\n",
       "      <td>0.534426</td>\n",
       "      <td>0.837051</td>\n",
       "      <td>1.000000</td>\n",
       "      <td>-0.118488</td>\n",
       "      <td>0.133417</td>\n",
       "    </tr>\n",
       "    <tr>\n",
       "      <th>isAlive</th>\n",
       "      <td>-0.136998</td>\n",
       "      <td>-0.148420</td>\n",
       "      <td>-0.053686</td>\n",
       "      <td>0.013176</td>\n",
       "      <td>0.291318</td>\n",
       "      <td>0.081801</td>\n",
       "      <td>NaN</td>\n",
       "      <td>NaN</td>\n",
       "      <td>NaN</td>\n",
       "      <td>0.183096</td>\n",
       "      <td>-0.057676</td>\n",
       "      <td>-0.067108</td>\n",
       "      <td>0.093145</td>\n",
       "      <td>-0.142543</td>\n",
       "      <td>-0.162916</td>\n",
       "      <td>-0.097068</td>\n",
       "      <td>-0.118488</td>\n",
       "      <td>1.000000</td>\n",
       "      <td>-0.186388</td>\n",
       "    </tr>\n",
       "    <tr>\n",
       "      <th>badluckhouses</th>\n",
       "      <td>-0.049561</td>\n",
       "      <td>0.017976</td>\n",
       "      <td>-0.067947</td>\n",
       "      <td>-0.090703</td>\n",
       "      <td>-0.133678</td>\n",
       "      <td>0.004650</td>\n",
       "      <td>NaN</td>\n",
       "      <td>NaN</td>\n",
       "      <td>NaN</td>\n",
       "      <td>-0.199595</td>\n",
       "      <td>0.135928</td>\n",
       "      <td>0.082853</td>\n",
       "      <td>-0.196127</td>\n",
       "      <td>0.300366</td>\n",
       "      <td>0.186281</td>\n",
       "      <td>0.063703</td>\n",
       "      <td>0.133417</td>\n",
       "      <td>-0.186388</td>\n",
       "      <td>1.000000</td>\n",
       "    </tr>\n",
       "  </tbody>\n",
       "</table>\n",
       "</div>"
      ],
      "text/plain": [
       "                       male     book1     book2     book3     book4     book5  \\\n",
       "male               1.000000  0.098621  0.058499  0.035639 -0.051716  0.083030   \n",
       "book1              0.098621  1.000000  0.411571  0.259365  0.082689  0.276324   \n",
       "book2              0.058499  0.411571  1.000000  0.485758  0.203473  0.219118   \n",
       "book3              0.035639  0.259365  0.485758  1.000000  0.394086  0.273822   \n",
       "book4             -0.051716  0.082689  0.203473  0.394086  1.000000  0.375727   \n",
       "book5              0.083030  0.276324  0.219118  0.273822  0.375727  1.000000   \n",
       "isAliveMother           NaN       NaN       NaN       NaN       NaN       NaN   \n",
       "isAliveFather           NaN       NaN       NaN       NaN       NaN       NaN   \n",
       "isAliveHeir             NaN       NaN       NaN       NaN       NaN       NaN   \n",
       "isAliveSpouse      0.242687  0.081662  0.069108  0.095255  0.216068  0.135018   \n",
       "isMarried         -0.091761  0.068641  0.133213  0.119850  0.108880  0.058059   \n",
       "isNoble            0.186958  0.080835 -0.005813 -0.017409  0.031265  0.094312   \n",
       "age                0.087690 -0.105250 -0.054908  0.028136  0.036520  0.012597   \n",
       "numDeadRelations   0.005911  0.255788  0.123557  0.111505  0.055972  0.165767   \n",
       "boolDeadRelations  0.031178  0.278294  0.150884  0.160710  0.085376  0.212134   \n",
       "isPopular          0.111716  0.311605  0.191691  0.177242  0.104653  0.180815   \n",
       "popularity         0.114316  0.399469  0.314390  0.288954  0.196822  0.273713   \n",
       "isAlive           -0.136998 -0.148420 -0.053686  0.013176  0.291318  0.081801   \n",
       "badluckhouses     -0.049561  0.017976 -0.067947 -0.090703 -0.133678  0.004650   \n",
       "\n",
       "                   isAliveMother  isAliveFather  isAliveHeir  isAliveSpouse  \\\n",
       "male                         NaN            NaN          NaN       0.242687   \n",
       "book1                        NaN            NaN          NaN       0.081662   \n",
       "book2                        NaN            NaN          NaN       0.069108   \n",
       "book3                        NaN            NaN          NaN       0.095255   \n",
       "book4                        NaN            NaN          NaN       0.216068   \n",
       "book5                        NaN            NaN          NaN       0.135018   \n",
       "isAliveMother                NaN            NaN          NaN            NaN   \n",
       "isAliveFather                NaN            NaN          NaN            NaN   \n",
       "isAliveHeir                  NaN            NaN          NaN            NaN   \n",
       "isAliveSpouse                NaN            NaN          NaN       1.000000   \n",
       "isMarried                    NaN            NaN          NaN            NaN   \n",
       "isNoble                      NaN            NaN          NaN      -0.000313   \n",
       "age                          NaN            NaN          NaN       0.029252   \n",
       "numDeadRelations             NaN            NaN          NaN      -0.216696   \n",
       "boolDeadRelations            NaN            NaN          NaN      -0.180672   \n",
       "isPopular                    NaN            NaN          NaN      -0.035905   \n",
       "popularity                   NaN            NaN          NaN      -0.079872   \n",
       "isAlive                      NaN            NaN          NaN       0.183096   \n",
       "badluckhouses                NaN            NaN          NaN      -0.199595   \n",
       "\n",
       "                   isMarried   isNoble       age  numDeadRelations  \\\n",
       "male               -0.091761  0.186958  0.087690          0.005911   \n",
       "book1               0.068641  0.080835 -0.105250          0.255788   \n",
       "book2               0.133213 -0.005813 -0.054908          0.123557   \n",
       "book3               0.119850 -0.017409  0.028136          0.111505   \n",
       "book4               0.108880  0.031265  0.036520          0.055972   \n",
       "book5               0.058059  0.094312  0.012597          0.165767   \n",
       "isAliveMother            NaN       NaN       NaN               NaN   \n",
       "isAliveFather            NaN       NaN       NaN               NaN   \n",
       "isAliveHeir              NaN       NaN       NaN               NaN   \n",
       "isAliveSpouse            NaN -0.000313  0.029252         -0.216696   \n",
       "isMarried           1.000000  0.170229  0.047372          0.238565   \n",
       "isNoble             0.170229  1.000000  0.071714          0.155278   \n",
       "age                 0.047372  0.071714  1.000000         -0.062389   \n",
       "numDeadRelations    0.238565  0.155278 -0.062389          1.000000   \n",
       "boolDeadRelations   0.229773  0.141254 -0.046615          0.760375   \n",
       "isPopular           0.188864  0.185469  0.031284          0.430803   \n",
       "popularity          0.319645  0.217856  0.018563          0.553020   \n",
       "isAlive            -0.057676 -0.067108  0.093145         -0.142543   \n",
       "badluckhouses       0.135928  0.082853 -0.196127          0.300366   \n",
       "\n",
       "                   boolDeadRelations  isPopular  popularity   isAlive  \\\n",
       "male                        0.031178   0.111716    0.114316 -0.136998   \n",
       "book1                       0.278294   0.311605    0.399469 -0.148420   \n",
       "book2                       0.150884   0.191691    0.314390 -0.053686   \n",
       "book3                       0.160710   0.177242    0.288954  0.013176   \n",
       "book4                       0.085376   0.104653    0.196822  0.291318   \n",
       "book5                       0.212134   0.180815    0.273713  0.081801   \n",
       "isAliveMother                    NaN        NaN         NaN       NaN   \n",
       "isAliveFather                    NaN        NaN         NaN       NaN   \n",
       "isAliveHeir                      NaN        NaN         NaN       NaN   \n",
       "isAliveSpouse              -0.180672  -0.035905   -0.079872  0.183096   \n",
       "isMarried                   0.229773   0.188864    0.319645 -0.057676   \n",
       "isNoble                     0.141254   0.185469    0.217856 -0.067108   \n",
       "age                        -0.046615   0.031284    0.018563  0.093145   \n",
       "numDeadRelations            0.760375   0.430803    0.553020 -0.142543   \n",
       "boolDeadRelations           1.000000   0.431971    0.534426 -0.162916   \n",
       "isPopular                   0.431971   1.000000    0.837051 -0.097068   \n",
       "popularity                  0.534426   0.837051    1.000000 -0.118488   \n",
       "isAlive                    -0.162916  -0.097068   -0.118488  1.000000   \n",
       "badluckhouses               0.186281   0.063703    0.133417 -0.186388   \n",
       "\n",
       "                   badluckhouses  \n",
       "male                   -0.049561  \n",
       "book1                   0.017976  \n",
       "book2                  -0.067947  \n",
       "book3                  -0.090703  \n",
       "book4                  -0.133678  \n",
       "book5                   0.004650  \n",
       "isAliveMother                NaN  \n",
       "isAliveFather                NaN  \n",
       "isAliveHeir                  NaN  \n",
       "isAliveSpouse          -0.199595  \n",
       "isMarried               0.135928  \n",
       "isNoble                 0.082853  \n",
       "age                    -0.196127  \n",
       "numDeadRelations        0.300366  \n",
       "boolDeadRelations       0.186281  \n",
       "isPopular               0.063703  \n",
       "popularity              0.133417  \n",
       "isAlive                -0.186388  \n",
       "badluckhouses           1.000000  "
      ]
     },
     "execution_count": 281,
     "metadata": {},
     "output_type": "execute_result"
    }
   ],
   "source": [
    "#Finding the correlations \n",
    "predictions.corr()"
   ]
  },
  {
   "cell_type": "code",
   "execution_count": 282,
   "metadata": {
    "collapsed": false
   },
   "outputs": [
    {
     "data": {
      "text/plain": [
       "name                  object\n",
       "title                 object\n",
       "male                   int64\n",
       "culture               object\n",
       "mother                object\n",
       "father                object\n",
       "heir                  object\n",
       "house                 object\n",
       "spouse                object\n",
       "book1                  int64\n",
       "book2                  int64\n",
       "book3                  int64\n",
       "book4                  int64\n",
       "book5                  int64\n",
       "isAliveMother        float64\n",
       "isAliveFather        float64\n",
       "isAliveHeir          float64\n",
       "isAliveSpouse        float64\n",
       "isMarried              int64\n",
       "isNoble                int64\n",
       "age                  float64\n",
       "numDeadRelations       int64\n",
       "boolDeadRelations      int64\n",
       "isPopular              int64\n",
       "popularity           float64\n",
       "isAlive                int64\n",
       "badluckhouses           bool\n",
       "dtype: object"
      ]
     },
     "execution_count": 282,
     "metadata": {},
     "output_type": "execute_result"
    }
   ],
   "source": [
    "#double checking the variable types here because I had trouble running models where the string values could not be converted into float64 values. \n",
    "predictions.dtypes"
   ]
  },
  {
   "cell_type": "markdown",
   "metadata": {},
   "source": [
    "### Logistic Regression"
   ]
  },
  {
   "cell_type": "code",
   "execution_count": 283,
   "metadata": {
    "collapsed": false
   },
   "outputs": [],
   "source": [
    "from sklearn import tree\n",
    "X = predictions[[\"book1\",\"book2\", \"book3\", \"book4\", \"book5\",\"male\", \"isNoble\", \"isPopular\", \"popularity\", \"numDeadRelations\", \"badluckhouses\",]]\n",
    "y = predictions.isAlive"
   ]
  },
  {
   "cell_type": "code",
   "execution_count": 284,
   "metadata": {
    "collapsed": true
   },
   "outputs": [],
   "source": [
    "# Splitting the data into test and train data\n",
    "X_train, X_test, y_train, y_test = cross_validation.train_test_split(X, y, test_size=0.4, random_state=0)"
   ]
  },
  {
   "cell_type": "code",
   "execution_count": 285,
   "metadata": {
    "collapsed": false
   },
   "outputs": [
    {
     "name": "stdout",
     "output_type": "stream",
     "text": [
      "911\n",
      "608\n",
      "911\n",
      "608\n"
     ]
    }
   ],
   "source": [
    "print len(X_train)\n",
    "print len(X_test)\n",
    "print len(y_train)\n",
    "print len(y_test)"
   ]
  },
  {
   "cell_type": "code",
   "execution_count": 340,
   "metadata": {
    "collapsed": false
   },
   "outputs": [
    {
     "data": {
      "text/plain": [
       "LogisticRegression(C=1.0, class_weight=None, dual=False, fit_intercept=True,\n",
       "          intercept_scaling=1, max_iter=100, multi_class='ovr', n_jobs=1,\n",
       "          penalty='l2', random_state=None, solver='liblinear', tol=0.0001,\n",
       "          verbose=0, warm_start=False)"
      ]
     },
     "execution_count": 340,
     "metadata": {},
     "output_type": "execute_result"
    }
   ],
   "source": [
    "model = linear_model.LogisticRegression()\n",
    "model.fit(X_train, y_train)"
   ]
  },
  {
   "cell_type": "code",
   "execution_count": 311,
   "metadata": {
    "collapsed": false
   },
   "outputs": [
    {
     "data": {
      "text/plain": [
       "0.76619099890230513"
      ]
     },
     "execution_count": 311,
     "metadata": {},
     "output_type": "execute_result"
    }
   ],
   "source": [
    "#This is a great score\n",
    "model.score(X_train, y_train)"
   ]
  },
  {
   "cell_type": "code",
   "execution_count": 341,
   "metadata": {
    "collapsed": false
   },
   "outputs": [
    {
     "data": {
      "text/plain": [
       "0.75822368421052633"
      ]
     },
     "execution_count": 341,
     "metadata": {},
     "output_type": "execute_result"
    }
   ],
   "source": [
    "model.score(X_test, y_test)"
   ]
  },
  {
   "cell_type": "markdown",
   "metadata": {},
   "source": [
    "### Logistics Regression (Model Validation)"
   ]
  },
  {
   "cell_type": "code",
   "execution_count": 315,
   "metadata": {
    "collapsed": true
   },
   "outputs": [],
   "source": [
    "from sklearn.cross_validation import cross_val_score"
   ]
  },
  {
   "cell_type": "code",
   "execution_count": 342,
   "metadata": {
    "collapsed": false
   },
   "outputs": [
    {
     "name": "stdout",
     "output_type": "stream",
     "text": [
      "Accuracy: 0.754413558731 (+/- 0.0499447501987)\n"
     ]
    }
   ],
   "source": [
    "#10 fold cross validation\n",
    "scores = cross_val_score(model, X, y, cv=10)\n",
    "print(\"Accuracy: \" + str(scores.mean()) + \" (+/- \" + str(scores.std() * 2) + \")\")"
   ]
  },
  {
   "cell_type": "code",
   "execution_count": 343,
   "metadata": {
    "collapsed": false
   },
   "outputs": [
    {
     "data": {
      "text/html": [
       "<div>\n",
       "<table border=\"1\" class=\"dataframe\">\n",
       "  <thead>\n",
       "    <tr style=\"text-align: right;\">\n",
       "      <th>True Class</th>\n",
       "      <th>0</th>\n",
       "      <th>1</th>\n",
       "    </tr>\n",
       "    <tr>\n",
       "      <th>Hypothesized Class</th>\n",
       "      <th></th>\n",
       "      <th></th>\n",
       "    </tr>\n",
       "  </thead>\n",
       "  <tbody>\n",
       "    <tr>\n",
       "      <th>0</th>\n",
       "      <td>42</td>\n",
       "      <td>29</td>\n",
       "    </tr>\n",
       "    <tr>\n",
       "      <th>1</th>\n",
       "      <td>118</td>\n",
       "      <td>419</td>\n",
       "    </tr>\n",
       "  </tbody>\n",
       "</table>\n",
       "</div>"
      ],
      "text/plain": [
       "True Class            0    1\n",
       "Hypothesized Class          \n",
       "0                    42   29\n",
       "1                   118  419"
      ]
     },
     "execution_count": 343,
     "metadata": {},
     "output_type": "execute_result"
    }
   ],
   "source": [
    "c_hat = model.predict(X_test)\n",
    "pd.crosstab(c_hat, \n",
    "    y_test,\n",
    "    rownames = ['Hypothesized Class'],\n",
    "    colnames = ['True Class'])"
   ]
  },
  {
   "cell_type": "markdown",
   "metadata": {},
   "source": [
    "### Decision Tree"
   ]
  },
  {
   "cell_type": "code",
   "execution_count": 344,
   "metadata": {
    "collapsed": false
   },
   "outputs": [
    {
     "data": {
      "text/plain": [
       "DecisionTreeClassifier(class_weight=None, criterion='gini', max_depth=None,\n",
       "            max_features=None, max_leaf_nodes=None, min_samples_leaf=1,\n",
       "            min_samples_split=2, min_weight_fraction_leaf=0.0,\n",
       "            presort=False, random_state=None, splitter='best')"
      ]
     },
     "execution_count": 344,
     "metadata": {},
     "output_type": "execute_result"
    }
   ],
   "source": [
    "model = tree.DecisionTreeClassifier()\n",
    "model.fit(X_train, y_train)"
   ]
  },
  {
   "cell_type": "code",
   "execution_count": 345,
   "metadata": {
    "collapsed": false
   },
   "outputs": [
    {
     "data": {
      "text/plain": [
       "0.95718990120746428"
      ]
     },
     "execution_count": 345,
     "metadata": {},
     "output_type": "execute_result"
    }
   ],
   "source": [
    "model.score(X_train, y_train)"
   ]
  },
  {
   "cell_type": "code",
   "execution_count": 346,
   "metadata": {
    "collapsed": false
   },
   "outputs": [
    {
     "data": {
      "text/plain": [
       "DecisionTreeClassifier(class_weight=None, criterion='gini', max_depth=None,\n",
       "            max_features=None, max_leaf_nodes=None, min_samples_leaf=1,\n",
       "            min_samples_split=2, min_weight_fraction_leaf=0.0,\n",
       "            presort=False, random_state=None, splitter='best')"
      ]
     },
     "execution_count": 346,
     "metadata": {},
     "output_type": "execute_result"
    }
   ],
   "source": [
    "#Let's test for overfitting\n",
    "model = tree.DecisionTreeClassifier()\n",
    "model.fit(X_train, y_train)"
   ]
  },
  {
   "cell_type": "code",
   "execution_count": 348,
   "metadata": {
    "collapsed": false
   },
   "outputs": [
    {
     "data": {
      "text/plain": [
       "0.72039473684210531"
      ]
     },
     "execution_count": 348,
     "metadata": {},
     "output_type": "execute_result"
    }
   ],
   "source": [
    "model.score(X_test, y_test)"
   ]
  },
  {
   "cell_type": "markdown",
   "metadata": {},
   "source": [
    "### Decision Tree (Model Validation)"
   ]
  },
  {
   "cell_type": "code",
   "execution_count": 319,
   "metadata": {
    "collapsed": false
   },
   "outputs": [],
   "source": [
    "from sklearn.cross_validation import cross_val_score"
   ]
  },
  {
   "cell_type": "code",
   "execution_count": 320,
   "metadata": {
    "collapsed": false
   },
   "outputs": [
    {
     "name": "stdout",
     "output_type": "stream",
     "text": [
      "Accuracy: 0.73333478564 (+/- 0.0721755888575)\n"
     ]
    }
   ],
   "source": [
    "# 10-fold cross-validation error formula\n",
    "scores = cross_val_score(model, X, y, cv=10)\n",
    "print(\"Accuracy: \" + str(scores.mean()) + \" (+/- \" + str(scores.std() * 2) + \")\")"
   ]
  },
  {
   "cell_type": "code",
   "execution_count": 337,
   "metadata": {
    "collapsed": false
   },
   "outputs": [
    {
     "data": {
      "text/html": [
       "<div>\n",
       "<table border=\"1\" class=\"dataframe\">\n",
       "  <thead>\n",
       "    <tr style=\"text-align: right;\">\n",
       "      <th>True Class</th>\n",
       "      <th>0</th>\n",
       "      <th>1</th>\n",
       "    </tr>\n",
       "    <tr>\n",
       "      <th>Hypothesized Class</th>\n",
       "      <th></th>\n",
       "      <th></th>\n",
       "    </tr>\n",
       "  </thead>\n",
       "  <tbody>\n",
       "    <tr>\n",
       "      <th>0</th>\n",
       "      <td>80</td>\n",
       "      <td>88</td>\n",
       "    </tr>\n",
       "    <tr>\n",
       "      <th>1</th>\n",
       "      <td>80</td>\n",
       "      <td>360</td>\n",
       "    </tr>\n",
       "  </tbody>\n",
       "</table>\n",
       "</div>"
      ],
      "text/plain": [
       "True Class           0    1\n",
       "Hypothesized Class         \n",
       "0                   80   88\n",
       "1                   80  360"
      ]
     },
     "execution_count": 337,
     "metadata": {},
     "output_type": "execute_result"
    }
   ],
   "source": [
    "c_hat = model.predict(X_test)\n",
    "pd.crosstab(c_hat, \n",
    "    y_test,\n",
    "    rownames = ['Hypothesized Class'],\n",
    "    colnames = ['True Class'])\n"
   ]
  },
  {
   "cell_type": "code",
   "execution_count": 335,
   "metadata": {
    "collapsed": false
   },
   "outputs": [
    {
     "data": {
      "text/plain": [
       "1611    0\n",
       "917     1\n",
       "15      1\n",
       "958     1\n",
       "1020    0\n",
       "406     0\n",
       "1417    1\n",
       "1445    0\n",
       "1636    1\n",
       "1008    1\n",
       "1467    1\n",
       "298     0\n",
       "1170    1\n",
       "1271    1\n",
       "425     1\n",
       "1188    1\n",
       "971     1\n",
       "856     1\n",
       "57      1\n",
       "87      0\n",
       "878     1\n",
       "937     0\n",
       "772     1\n",
       "1083    0\n",
       "1232    1\n",
       "414     1\n",
       "483     1\n",
       "288     1\n",
       "519     1\n",
       "1413    1\n",
       "       ..\n",
       "1716    1\n",
       "404     1\n",
       "1404    1\n",
       "487     0\n",
       "1455    1\n",
       "633     1\n",
       "577     0\n",
       "418     1\n",
       "580     1\n",
       "1094    1\n",
       "1803    1\n",
       "1814    0\n",
       "1762    1\n",
       "1867    0\n",
       "27      1\n",
       "84      0\n",
       "1545    1\n",
       "1905    0\n",
       "1194    1\n",
       "564     1\n",
       "1494    1\n",
       "1923    1\n",
       "1795    1\n",
       "1106    0\n",
       "1896    1\n",
       "148     1\n",
       "1491    1\n",
       "1727    1\n",
       "307     1\n",
       "283     1\n",
       "Name: isAlive, dtype: int64"
      ]
     },
     "execution_count": 335,
     "metadata": {},
     "output_type": "execute_result"
    }
   ],
   "source": [
    "y_test"
   ]
  },
  {
   "cell_type": "markdown",
   "metadata": {},
   "source": [
    "### Feature Importance"
   ]
  },
  {
   "cell_type": "code",
   "execution_count": 323,
   "metadata": {
    "collapsed": false,
    "scrolled": true
   },
   "outputs": [
    {
     "data": {
      "text/plain": [
       "[(0.50583226332427833, 'popularity'),\n",
       " (0.092494451595804481, 'book4'),\n",
       " (0.069425919271374051, 'book2'),\n",
       " (0.068220976858604426, 'book5'),\n",
       " (0.064455721974261082, 'book3'),\n",
       " (0.060876552241592531, 'male'),\n",
       " (0.047670157953919351, 'isNoble'),\n",
       " (0.034803489639473974, 'book1'),\n",
       " (0.033354127847828298, 'numDeadRelations'),\n",
       " (0.018842143365291726, 'badluckhouses'),\n",
       " (0.0040241959275716934, 'isPopular')]"
      ]
     },
     "execution_count": 323,
     "metadata": {},
     "output_type": "execute_result"
    }
   ],
   "source": [
    "feature_importances = sorted(zip(model.feature_importances_, X.columns.values), reverse = True)\n",
    "feature_importances"
   ]
  },
  {
   "cell_type": "markdown",
   "metadata": {},
   "source": [
    "It turns out that the variable that I created `badluckhouses` is not good at predicting life/death. Popularity is the most predictive."
   ]
  },
  {
   "cell_type": "code",
   "execution_count": 324,
   "metadata": {
    "collapsed": false
   },
   "outputs": [
    {
     "data": {
      "text/plain": [
       "<matplotlib.text.Text at 0x1262f5090>"
      ]
     },
     "execution_count": 324,
     "metadata": {},
     "output_type": "execute_result"
    },
    {
     "data": {
      "image/png": "[encoded data removed]",
      "text/plain": [
       "<matplotlib.figure.Figure at 0x1262bae10>"
      ]
     },
     "metadata": {},
     "output_type": "display_data"
    }
   ],
   "source": [
    "plt.figure(figsize = (16, 8))\n",
    "\n",
    "plt.bar(\n",
    "    range(len(feature_importances)),\n",
    "    [feature_importance[0] for feature_importance in feature_importances]\n",
    ")\n",
    "\n",
    "plt.xticks(\n",
    "    range(len(feature_importance)),\n",
    "    [feature_importance[1] for feature_importance in feature_importances],\n",
    "    rotation = 90\n",
    ")\n",
    "\n",
    "plt.xlabel('Feature')\n",
    "plt.ylabel('Feature Importances')\n"
   ]
  },
  {
   "cell_type": "markdown",
   "metadata": {},
   "source": [
    "It seems like popularity is the most informative feature and the rest are not really that predictive at all. "
   ]
  },
  {
   "cell_type": "markdown",
   "metadata": {},
   "source": [
    "### Conclusions and Next Steps"
   ]
  },
  {
   "cell_type": "markdown",
   "metadata": {},
   "source": [
    "#### Does death come at random or is there a correlation with the features that I tested? \n",
    "It doesn't seem to be random. Popularity is a very strong predictor of death/survival as it accounts. My original assumption that the character's house allegiance by creating the `badluckhouses` did not have fruitful results. It is clear that the differences between Houses isn't particularly interesting. \n",
    "\n",
    "#### Can this model be applied to other TV shows/series? \n",
    "Probably not for a number of reasons. Firstly, the \"unspoken\" rule that the main characters generally stay alive does not apply here. Secondly, because there are battles and schemes involved, the character deaths sometimes come in wave, especially when they are house-related deaths.  \n",
    "\n",
    "#### Why did I choose to use the decision tree classifier vs any other model? \n",
    "The decision tree provides a straightforward, easy to understand way of looking at data that can be applied to regressions or classification problems. The decision tree regressor doesn't work as well in this case because the independant variable - isAlive is a cateogorical variable.\n",
    "\n"
   ]
  },
  {
   "cell_type": "markdown",
   "metadata": {},
   "source": [
    "#### What else can I look into?"
   ]
  },
  {
   "cell_type": "markdown",
   "metadata": {},
   "source": [
    "- Assign a likelihood of death score or percentage for each character. I didn't have time to do this after running the model\n",
    "- Look at other factors such as potential bad decisions made by characters that could have contributed to their demise. This can include pledging allegiance to the weaker house, being in the wrong place in the wrong time, or just being overly brave in general.\n",
    "- Some of the other datasets contain information such as \"latest quotes from the character in the previous TV episode\", which can be crucial in plotline prediction.\n",
    "- Do a bit more feature engineering. For example: look at the total number of books that a character appeared in \n"
   ]
  },
  {
   "cell_type": "markdown",
   "metadata": {},
   "source": [
    "The End"
   ]
  }
 ],
 "metadata": {
  "anaconda-cloud": {},
  "kernelspec": {
   "display_name": "Python [Root]",
   "language": "python",
   "name": "Python [Root]"
  },
  "language_info": {
   "codemirror_mode": {
    "name": "ipython",
    "version": 2
   },
   "file_extension": ".py",
   "mimetype": "text/x-python",
   "name": "python",
   "nbconvert_exporter": "python",
   "pygments_lexer": "ipython2",
   "version": "2.7.12"
  }
 },
 "nbformat": 4,
 "nbformat_minor": 0
}
