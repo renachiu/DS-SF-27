{
 "cells": [
  {
   "cell_type": "markdown",
   "metadata": {},
   "source": [
    "# DS-SF-27 | Unit Project 4: Notebook with Executive Summary\n",
    "\n",
    "In this project, you will summarize and present your analysis from Unit Projects 1-3."
   ]
  },
  {
   "cell_type": "markdown",
   "metadata": {},
   "source": [
    "> ## Question 1.  Introduction\n",
    "> Write a problem statement for this project."
   ]
  },
  {
   "cell_type": "markdown",
   "metadata": {},
   "source": [
    "Answer:\n",
    "\n",
    "Determine the odds of gaining admission into UCLA (admit) using the following information gathered about the student (gre, gpa, and the prestige of their undergraduate school). The hypothesis is that the standard test scores as well as the prestige of a student's undergraduate school will allow us to predict if he/she is admitted to UCLA or not. "
   ]
  },
  {
   "cell_type": "markdown",
   "metadata": {},
   "source": [
    "> ## Question 2.  Dataset\n",
    "> Write up a description of your data and any cleaning that was completed."
   ]
  },
  {
   "cell_type": "markdown",
   "metadata": {},
   "source": [
    "There are 400 observations in the ucla-admissions dataset. I had to drop data points with missing data and then examine the distributions of the variables using q-q plots and box plots."
   ]
  },
  {
   "cell_type": "markdown",
   "metadata": {
    "collapsed": true
   },
   "source": [
    "> ## Question 3.  Demo\n",
    "> Provide a table that explains the data by admission status."
   ]
  },
  {
   "cell_type": "markdown",
   "metadata": {},
   "source": [
    "Answer:\n",
    "\n",
    "Factors affecting admission | Effect (High/Medium/Low) | \n",
    "---|---|\n",
    "`prestige` | High \n",
    "`gpa` | Medium \n",
    "`gre` | Medium "
   ]
  },
  {
   "cell_type": "markdown",
   "metadata": {},
   "source": [
    "> ## Question 4. Methods\n",
    "> Write up the methods used in your analysis."
   ]
  },
  {
   "cell_type": "markdown",
   "metadata": {},
   "source": [
    "Answer:\n",
    "I performed the following methods in my analysis:  \n",
    "- Checked for normal distribution using q-q plots to see if the distributions need to be corrected \n",
    "- Used box plots to check for outliers\n",
    "- Checked for colinearity by creating a correlation matrix to check for highly correlated variables\n",
    "- Subset the dataframe for the group of students that are admitted and compare that with the group of students that were not admitted\n",
    "- Created a frequency table for `prestige` and whether an applicant was admitted\n",
    "- Created a one-hot encoding for `prestige`\n",
    "- Fit a logistic regression model predicting admission into UCLA using all the variables\n",
    "- Calculated odds ratios for each variable"
   ]
  },
  {
   "cell_type": "markdown",
   "metadata": {},
   "source": [
    "> ## Question 5. Results\n",
    "> Write up your results."
   ]
  },
  {
   "cell_type": "markdown",
   "metadata": {},
   "source": [
    "Answer:\n",
    "\n",
    "For students who attended a top ranked college, the odds of being admitted into graduate school are 3 times the odds of students who did not attend one. Students who attended a tier 2 undergraduate school had 0.50 the odds of being admitted to graduate school compared to students who attend a tier 1 undergraduate school. The odds of being admitted to graduate school are 60% lower for students who attended the lowest tier college compared to students who did not.\n",
    "\n",
    "For gpa, the odds ratio change is about 2, the likelihood of being admitted double as you increase the GPA by 1. "
   ]
  },
  {
   "cell_type": "markdown",
   "metadata": {},
   "source": [
    "> ## Question 6. Visuals\n",
    "> Provide a table or visualization of these results."
   ]
  },
  {
   "cell_type": "markdown",
   "metadata": {},
   "source": [
    "Answer: \n",
    "\n",
    "Variables Tested | Odds ratio | Explanation\n",
    "---|---|\n",
    "`prestige_1` | 0.940893 | likelihood of being admitted = 0.94\n",
    "`prestige_2` | 0.476607 | likelihood of being admitted = 0.5 compared to students who attended tier 1\n",
    "`prestige_3` | 0.246695 | likelihood of being admitted = 0.25 compared to students who attended tier 2\n",
    "`prestige_4` | 0.199023 | likelihood of being admitted = 0.20 compared to students who atteded tier 3\n",
    "`gpa` | 2.180027 |likelihood of being admitted double as you increase the GPA by 1.\n",
    "`gre` | 1.002221 |likelihood remains contant as GRE increases by 1"
   ]
  },
  {
   "cell_type": "markdown",
   "metadata": {},
   "source": [
    "> ## Question 7.  Discussion\n",
    "> Write up your discussion and future steps."
   ]
  },
  {
   "cell_type": "markdown",
   "metadata": {},
   "source": [
    "Answer:\n",
    "\n",
    "It would be interesting to dig deeper into understanding the types of scores that students from lower tiered schools have to get in order to get admitted into graduate school. "
   ]
  }
 ],
 "metadata": {
  "kernelspec": {
   "display_name": "Python [Root]",
   "language": "python",
   "name": "Python [Root]"
  },
  "language_info": {
   "codemirror_mode": {
    "name": "ipython",
    "version": 2
   },
   "file_extension": ".py",
   "mimetype": "text/x-python",
   "name": "python",
   "nbconvert_exporter": "python",
   "pygments_lexer": "ipython2",
   "version": "2.7.12"
  }
 },
 "nbformat": 4,
 "nbformat_minor": 0
}
